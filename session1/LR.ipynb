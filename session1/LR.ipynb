{
 "cells": [
  {
   "cell_type": "markdown",
   "id": "3c72edcd",
   "metadata": {},
   "source": [
    "# Introduction to AI Programming"
   ]
  },
  {
   "cell_type": "markdown",
   "id": "1b05b04b",
   "metadata": {
    "ExecuteTime": {
     "end_time": "2023-02-03T15:31:09.381624Z",
     "start_time": "2023-02-03T15:31:09.367560Z"
    }
   },
   "source": [
    "## Set-Up and Imports"
   ]
  },
  {
   "cell_type": "code",
   "execution_count": 1,
   "id": "69e44597",
   "metadata": {
    "ExecuteTime": {
     "end_time": "2023-02-03T15:31:24.436398Z",
     "start_time": "2023-02-03T15:31:24.040986Z"
    }
   },
   "outputs": [],
   "source": [
    "import random\n",
    "from tqdm import tqdm\n",
    "import numpy as np"
   ]
  },
  {
   "cell_type": "markdown",
   "id": "b18d9692",
   "metadata": {},
   "source": [
    "## Problem Definition\n",
    "**Task 1**: Solve for $a$, $b$ and $c$ using the following equations:\n",
    "$$\n",
    "\\begin{align}\n",
    " a + b + c &= 9\\\\\n",
    " 2a + 4b + 3c &= 9\\\\\n",
    " 23a + 62b + c &= 10\\\\\n",
    " \\end{align}\n",
    " $$"
   ]
  },
  {
   "cell_type": "code",
   "execution_count": 2,
   "id": "6e42711d",
   "metadata": {
    "ExecuteTime": {
     "end_time": "2023-02-03T15:31:24.451931Z",
     "start_time": "2023-02-03T15:31:24.442395Z"
    }
   },
   "outputs": [],
   "source": [
    "X = [\n",
    "    [1, 1, 1],\n",
    "    [2, 4, 3],\n",
    "    [23, 62, 1]\n",
    "]\n",
    "\n",
    "y = [9, 9, 10]"
   ]
  },
  {
   "cell_type": "markdown",
   "id": "af51b4aa",
   "metadata": {},
   "source": [
    "## The Actual Solution"
   ]
  },
  {
   "cell_type": "markdown",
   "id": "3fb58d19",
   "metadata": {},
   "source": [
    "One can solve a system of linear equations by inverting the coefficient matrix and multiplying the matrix with the outputs (you will learn this in Y2 math if you haven't already)."
   ]
  },
  {
   "cell_type": "code",
   "execution_count": 3,
   "id": "af5a727f",
   "metadata": {
    "ExecuteTime": {
     "end_time": "2023-02-03T15:31:24.483162Z",
     "start_time": "2023-02-03T15:31:24.455456Z"
    }
   },
   "outputs": [
    {
     "data": {
      "text/plain": [
       "array([13.24096386, -4.75903614,  0.51807229])"
      ]
     },
     "execution_count": 3,
     "metadata": {},
     "output_type": "execute_result"
    }
   ],
   "source": [
    "np.linalg.inv(X) @ y"
   ]
  },
  {
   "cell_type": "markdown",
   "id": "4359b199",
   "metadata": {},
   "source": [
    "## Using Linear Regression"
   ]
  },
  {
   "cell_type": "markdown",
   "id": "2579cc9c",
   "metadata": {},
   "source": [
    "We start by defining $m$ values at random, which represent $a$, $b$ and $c$."
   ]
  },
  {
   "cell_type": "code",
   "execution_count": 4,
   "id": "64bec594",
   "metadata": {
    "ExecuteTime": {
     "end_time": "2023-02-03T15:31:24.499173Z",
     "start_time": "2023-02-03T15:31:24.487087Z"
    }
   },
   "outputs": [
    {
     "data": {
      "text/plain": [
       "[0.2830302698109701, 0.9617920183096833, 0.6131517096630744]"
      ]
     },
     "execution_count": 4,
     "metadata": {},
     "output_type": "execute_result"
    }
   ],
   "source": [
    "soln = [random.random() for i in range(3)]\n",
    "soln"
   ]
  },
  {
   "cell_type": "markdown",
   "id": "f191fc1f",
   "metadata": {},
   "source": [
    "We now define our parameters. $\\alpha$ is the Learning Rate."
   ]
  },
  {
   "cell_type": "code",
   "execution_count": 5,
   "id": "38fcc647",
   "metadata": {
    "ExecuteTime": {
     "end_time": "2023-02-03T15:31:24.514416Z",
     "start_time": "2023-02-03T15:31:24.505271Z"
    }
   },
   "outputs": [],
   "source": [
    "alpha = 0.001\n",
    "n = len(y)\n",
    "m = 3"
   ]
  },
  {
   "cell_type": "code",
   "execution_count": 6,
   "id": "c7a1a481",
   "metadata": {
    "ExecuteTime": {
     "end_time": "2023-02-03T15:31:36.204518Z",
     "start_time": "2023-02-03T15:31:24.517378Z"
    }
   },
   "outputs": [
    {
     "name": "stderr",
     "output_type": "stream",
     "text": [
      "100%|███████████████████████████████████████████████████████████████████████████████████████████████████████████| 500000/500000 [00:11<00:00, 42951.17it/s]"
     ]
    },
    {
     "name": "stdout",
     "output_type": "stream",
     "text": [
      "[13.240963855373089, -4.759036144560463, 0.5180722891676119]\n"
     ]
    },
    {
     "name": "stderr",
     "output_type": "stream",
     "text": [
      "\n"
     ]
    }
   ],
   "source": [
    "for epoch in tqdm(range(500000)): # We run the loop 500,000 times!\n",
    "    soln_new = [i for i in soln]\n",
    "    for i in range(n):\n",
    "        h = 0\n",
    "        for j in range(m):\n",
    "            h += X[i][j] * soln[j]\n",
    "        for j in range(m):\n",
    "            soln_new[j] += (alpha / n) * X[i][j] * (y[i] - h)\n",
    "        \n",
    "    soln = soln_new\n",
    "\n",
    "print(soln)"
   ]
  },
  {
   "cell_type": "markdown",
   "id": "86b961ea",
   "metadata": {},
   "source": [
    "### What happens if I set $\\alpha$ to be too large?"
   ]
  },
  {
   "cell_type": "code",
   "execution_count": 7,
   "id": "f7d92b49",
   "metadata": {
    "ExecuteTime": {
     "end_time": "2023-02-03T15:31:36.236676Z",
     "start_time": "2023-02-03T15:31:36.211057Z"
    }
   },
   "outputs": [
    {
     "data": {
      "text/plain": [
       "[0.4176338036949826, 0.31674977456584574, 0.49140096334215044]"
      ]
     },
     "execution_count": 7,
     "metadata": {},
     "output_type": "execute_result"
    }
   ],
   "source": [
    "alpha = 0.01\n",
    "soln = [random.random() for i in range(3)]\n",
    "soln"
   ]
  },
  {
   "cell_type": "code",
   "execution_count": 8,
   "id": "d8fa8c2e",
   "metadata": {
    "ExecuteTime": {
     "end_time": "2023-02-03T15:31:36.268332Z",
     "start_time": "2023-02-03T15:31:36.240679Z"
    }
   },
   "outputs": [
    {
     "name": "stderr",
     "output_type": "stream",
     "text": [
      "100%|█████████████████████████████████████████████████████████████████████████████████████████████████████████████████| 100/100 [00:00<00:00, 28324.58it/s]"
     ]
    },
    {
     "name": "stdout",
     "output_type": "stream",
     "text": [
      "[3.3567490163575955e+112, 9.030056003891683e+112, 1.7741691039660442e+111]\n"
     ]
    },
    {
     "name": "stderr",
     "output_type": "stream",
     "text": [
      "\n"
     ]
    }
   ],
   "source": [
    "for epoch in tqdm(range(100)):\n",
    "    soln_new = [i for i in soln]\n",
    "    for i in range(n):\n",
    "        h = 0\n",
    "        for j in range(m):\n",
    "            h += X[i][j] * soln[j]\n",
    "        for j in range(m):\n",
    "            soln_new[j] += (alpha / n) * X[i][j] * (y[i] - h)\n",
    "        \n",
    "    soln = soln_new\n",
    "\n",
    "print(soln)"
   ]
  },
  {
   "cell_type": "markdown",
   "id": "a320b848",
   "metadata": {},
   "source": [
    "## Using Vectorization to Speed Up"
   ]
  },
  {
   "cell_type": "code",
   "execution_count": 9,
   "id": "df22021f",
   "metadata": {
    "ExecuteTime": {
     "end_time": "2023-02-03T15:32:07.717940Z",
     "start_time": "2023-02-03T15:31:36.272327Z"
    }
   },
   "outputs": [
    {
     "name": "stderr",
     "output_type": "stream",
     "text": [
      "100%|███████████████████████████████████████████████████████████████████████████████████████████████████████████| 500000/500000 [00:09<00:00, 51191.61it/s]\n"
     ]
    },
    {
     "name": "stdout",
     "output_type": "stream",
     "text": [
      "[13.240963855373499, -4.759036144560614, 0.5180722891675333]\n"
     ]
    },
    {
     "name": "stderr",
     "output_type": "stream",
     "text": [
      "100%|███████████████████████████████████████████████████████████████████████████████████████████████████████████| 500000/500000 [00:05<00:00, 95312.37it/s]\n"
     ]
    },
    {
     "name": "stdout",
     "output_type": "stream",
     "text": [
      "[13.240963855372804, -4.75903614456036, 0.5180722891676707]\n"
     ]
    },
    {
     "name": "stderr",
     "output_type": "stream",
     "text": [
      "100%|███████████████████████████████████████████████████████████████████████████████████████████████████████████| 500000/500000 [00:05<00:00, 91680.75it/s]\n"
     ]
    },
    {
     "name": "stdout",
     "output_type": "stream",
     "text": [
      "[13.24096385537446, -4.7590361445609695, 0.5180722891673301]\n"
     ]
    },
    {
     "name": "stderr",
     "output_type": "stream",
     "text": [
      "100%|███████████████████████████████████████████████████████████████████████████████████████████████████████████| 500000/500000 [00:05<00:00, 87446.82it/s]\n"
     ]
    },
    {
     "name": "stdout",
     "output_type": "stream",
     "text": [
      "[13.240963855375846, -4.759036144561476, 0.518072289166982]\n"
     ]
    },
    {
     "name": "stderr",
     "output_type": "stream",
     "text": [
      "100%|███████████████████████████████████████████████████████████████████████████████████████████████████████████| 500000/500000 [00:05<00:00, 95758.28it/s]"
     ]
    },
    {
     "name": "stdout",
     "output_type": "stream",
     "text": [
      "[13.240963855374401, -4.759036144560947, 0.518072289167342]\n",
      "6.29 s ± 0 ns per loop (mean ± std. dev. of 1 run, 5 loops each)\n"
     ]
    },
    {
     "name": "stderr",
     "output_type": "stream",
     "text": [
      "\n"
     ]
    }
   ],
   "source": [
    "%%timeit -n 5 -r 1\n",
    "X = [\n",
    "    [1, 1, 1],\n",
    "    [2, 4, 3],\n",
    "    [23, 62, 1]\n",
    "]\n",
    "\n",
    "y = [9, 9, 10]\n",
    "\n",
    "soln = [random.random() for i in range(3)]\n",
    "\n",
    "alpha = 0.001\n",
    "n = len(y)\n",
    "m = 3\n",
    "\n",
    "for epoch in tqdm(range(500000)): # We run the loop 500,000 times!\n",
    "    soln_new = [i for i in soln]\n",
    "    for i in range(n):\n",
    "        h = 0\n",
    "        for j in range(m):\n",
    "            h += X[i][j] * soln[j]\n",
    "        for j in range(m):\n",
    "            soln_new[j] += (alpha / n) * X[i][j] * (y[i] - h)\n",
    "        \n",
    "    soln = soln_new\n",
    "\n",
    "print(soln)"
   ]
  },
  {
   "cell_type": "code",
   "execution_count": 11,
   "id": "28774b38",
   "metadata": {
    "ExecuteTime": {
     "end_time": "2023-02-03T15:32:34.106398Z",
     "start_time": "2023-02-03T15:32:07.736526Z"
    }
   },
   "outputs": [
    {
     "name": "stderr",
     "output_type": "stream",
     "text": [
      "100%|███████████████████████████████████████████████████████████████████████████████████████████████████████████| 500000/500000 [00:05<00:00, 91722.31it/s]\n"
     ]
    },
    {
     "name": "stdout",
     "output_type": "stream",
     "text": [
      "[13.24096386 -4.75903614  0.51807229]\n"
     ]
    },
    {
     "name": "stderr",
     "output_type": "stream",
     "text": [
      "100%|███████████████████████████████████████████████████████████████████████████████████████████████████████████| 500000/500000 [00:05<00:00, 98288.84it/s]\n"
     ]
    },
    {
     "name": "stdout",
     "output_type": "stream",
     "text": [
      "[13.24096386 -4.75903614  0.51807229]\n"
     ]
    },
    {
     "name": "stderr",
     "output_type": "stream",
     "text": [
      "100%|███████████████████████████████████████████████████████████████████████████████████████████████████████████| 500000/500000 [00:05<00:00, 95204.02it/s]\n"
     ]
    },
    {
     "name": "stdout",
     "output_type": "stream",
     "text": [
      "[13.24096386 -4.75903614  0.51807229]\n"
     ]
    },
    {
     "name": "stderr",
     "output_type": "stream",
     "text": [
      "100%|███████████████████████████████████████████████████████████████████████████████████████████████████████████| 500000/500000 [00:05<00:00, 95856.55it/s]\n"
     ]
    },
    {
     "name": "stdout",
     "output_type": "stream",
     "text": [
      "[13.24096386 -4.75903614  0.51807229]\n"
     ]
    },
    {
     "name": "stderr",
     "output_type": "stream",
     "text": [
      "100%|███████████████████████████████████████████████████████████████████████████████████████████████████████████| 500000/500000 [00:05<00:00, 94152.08it/s]"
     ]
    },
    {
     "name": "stdout",
     "output_type": "stream",
     "text": [
      "[13.24096386 -4.75903614  0.51807229]\n",
      "5.27 s ± 0 ns per loop (mean ± std. dev. of 1 run, 5 loops each)\n"
     ]
    },
    {
     "name": "stderr",
     "output_type": "stream",
     "text": [
      "\n"
     ]
    }
   ],
   "source": [
    "%%timeit -n 5 -r 1\n",
    "X = np.array([\n",
    "    [1, 1, 1],\n",
    "    [2, 4, 3],\n",
    "    [23, 62, 1]\n",
    "])\n",
    "\n",
    "y = np.array([9, 9, 10])\n",
    "\n",
    "soln = np.random.randn(3)#[random.random() for i in range(3)]\n",
    "\n",
    "alpha = 0.001\n",
    "n = len(y)\n",
    "m = 3\n",
    "\n",
    "for epoch in tqdm(range(500000)):\n",
    "    h = X @ soln\n",
    "    soln += ((alpha / n) * (X.T @ (y - h)))\n",
    "\n",
    "print(soln)"
   ]
  },
  {
   "cell_type": "markdown",
   "id": "19c6f12b",
   "metadata": {},
   "source": [
    "## Using Scikit Learn Instead"
   ]
  },
  {
   "cell_type": "code",
   "execution_count": 14,
   "id": "14c8783b",
   "metadata": {
    "ExecuteTime": {
     "end_time": "2023-02-03T15:32:35.353309Z",
     "start_time": "2023-02-03T15:32:34.151958Z"
    }
   },
   "outputs": [
    {
     "data": {
      "text/plain": [
       "array([13.24096386, -4.75903614,  0.51807229])"
      ]
     },
     "execution_count": 14,
     "metadata": {},
     "output_type": "execute_result"
    }
   ],
   "source": [
    "from sklearn.linear_model import LinearRegression\n",
    "model = LinearRegression(fit_intercept = False)\n",
    "model.fit(X, y)\n",
    "model.coef_"
   ]
  },
  {
   "cell_type": "markdown",
   "id": "5920e836",
   "metadata": {},
   "source": [
    "## Task 2"
   ]
  },
  {
   "cell_type": "code",
   "execution_count": 16,
   "id": "35538c48",
   "metadata": {
    "ExecuteTime": {
     "end_time": "2023-02-04T04:39:51.023314Z",
     "start_time": "2023-02-04T04:39:50.509925Z"
    }
   },
   "outputs": [],
   "source": [
    "from sklearn.datasets import load_diabetes"
   ]
  },
  {
   "cell_type": "code",
   "execution_count": 18,
   "id": "66f5aeb6",
   "metadata": {
    "ExecuteTime": {
     "end_time": "2023-02-04T04:40:42.930726Z",
     "start_time": "2023-02-04T04:40:42.881532Z"
    }
   },
   "outputs": [
    {
     "data": {
      "text/plain": [
       "['age', 'sex', 'bmi', 'bp', 's1', 's2', 's3', 's4', 's5', 's6']"
      ]
     },
     "execution_count": 18,
     "metadata": {},
     "output_type": "execute_result"
    }
   ],
   "source": [
    "diabetes_ds = load_diabetes()\n",
    "diabetes_ds.feature_names"
   ]
  },
  {
   "cell_type": "code",
   "execution_count": 19,
   "id": "5d6e2169",
   "metadata": {
    "ExecuteTime": {
     "end_time": "2023-02-04T04:41:02.017632Z",
     "start_time": "2023-02-04T04:41:02.000670Z"
    }
   },
   "outputs": [
    {
     "data": {
      "text/plain": [
       "array([[ 0.03807591,  0.05068012,  0.06169621, ..., -0.00259226,\n",
       "         0.01990842, -0.01764613],\n",
       "       [-0.00188202, -0.04464164, -0.05147406, ..., -0.03949338,\n",
       "        -0.06832974, -0.09220405],\n",
       "       [ 0.08529891,  0.05068012,  0.04445121, ..., -0.00259226,\n",
       "         0.00286377, -0.02593034],\n",
       "       ...,\n",
       "       [ 0.04170844,  0.05068012, -0.01590626, ..., -0.01107952,\n",
       "        -0.04687948,  0.01549073],\n",
       "       [-0.04547248, -0.04464164,  0.03906215, ...,  0.02655962,\n",
       "         0.04452837, -0.02593034],\n",
       "       [-0.04547248, -0.04464164, -0.0730303 , ..., -0.03949338,\n",
       "        -0.00421986,  0.00306441]])"
      ]
     },
     "execution_count": 19,
     "metadata": {},
     "output_type": "execute_result"
    }
   ],
   "source": [
    "X = diabetes_ds.data\n",
    "X"
   ]
  },
  {
   "cell_type": "code",
   "execution_count": 21,
   "id": "7d4b6dea",
   "metadata": {
    "ExecuteTime": {
     "end_time": "2023-02-04T04:41:18.925143Z",
     "start_time": "2023-02-04T04:41:18.912675Z"
    }
   },
   "outputs": [
    {
     "data": {
      "text/plain": [
       "array([151.,  75., 141., 206.])"
      ]
     },
     "execution_count": 21,
     "metadata": {},
     "output_type": "execute_result"
    }
   ],
   "source": [
    "y = diabetes_ds.target\n",
    "y[:4]"
   ]
  },
  {
   "cell_type": "code",
   "execution_count": 24,
   "id": "e98a26cf",
   "metadata": {
    "ExecuteTime": {
     "end_time": "2023-02-04T04:42:37.413310Z",
     "start_time": "2023-02-04T04:42:37.232401Z"
    }
   },
   "outputs": [
    {
     "data": {
      "text/plain": [
       "<matplotlib.collections.PathCollection at 0x19b4cad5af0>"
      ]
     },
     "execution_count": 24,
     "metadata": {},
     "output_type": "execute_result"
    },
    {
     "data": {
      "image/png": "[encoded data removed]",
      "text/plain": [
       "<Figure size 432x288 with 1 Axes>"
      ]
     },
     "metadata": {
      "needs_background": "light"
     },
     "output_type": "display_data"
    }
   ],
   "source": [
    "import matplotlib.pyplot as plt\n",
    "\n",
    "plt.scatter(X[:,  0], X[:, 2])"
   ]
  },
  {
   "cell_type": "code",
   "execution_count": 25,
   "id": "043dc7f8",
   "metadata": {
    "ExecuteTime": {
     "end_time": "2023-02-04T04:42:56.589134Z",
     "start_time": "2023-02-04T04:42:56.305405Z"
    }
   },
   "outputs": [
    {
     "data": {
      "text/plain": [
       "<matplotlib.collections.PathCollection at 0x19b4cb39a90>"
      ]
     },
     "execution_count": 25,
     "metadata": {},
     "output_type": "execute_result"
    },
    {
     "data": {
      "image/png": "[encoded data removed]",
      "text/plain": [
       "<Figure size 432x288 with 1 Axes>"
      ]
     },
     "metadata": {
      "needs_background": "light"
     },
     "output_type": "display_data"
    }
   ],
   "source": [
    "plt.scatter(X[:,  0],y)"
   ]
  },
  {
   "cell_type": "code",
   "execution_count": 26,
   "id": "b54a7ffa",
   "metadata": {
    "ExecuteTime": {
     "end_time": "2023-02-04T04:43:02.210389Z",
     "start_time": "2023-02-04T04:43:01.961941Z"
    }
   },
   "outputs": [
    {
     "data": {
      "text/plain": [
       "<matplotlib.collections.PathCollection at 0x19b4cb99df0>"
      ]
     },
     "execution_count": 26,
     "metadata": {},
     "output_type": "execute_result"
    },
    {
     "data": {
      "image/png": "[encoded data removed]",
      "text/plain": [
       "<Figure size 432x288 with 1 Axes>"
      ]
     },
     "metadata": {
      "needs_background": "light"
     },
     "output_type": "display_data"
    }
   ],
   "source": [
    "plt.scatter(X[:,  2],y)"
   ]
  },
  {
   "cell_type": "code",
   "execution_count": 27,
   "id": "83cd1c68",
   "metadata": {
    "ExecuteTime": {
     "end_time": "2023-02-04T04:45:03.815478Z",
     "start_time": "2023-02-04T04:44:38.705584Z"
    }
   },
   "outputs": [
    {
     "name": "stderr",
     "output_type": "stream",
     "text": [
      "100%|███████████████████████████████████████████████████████████████████████████████████████████████████████████| 500000/500000 [00:25<00:00, 19946.29it/s]"
     ]
    },
    {
     "name": "stdout",
     "output_type": "stream",
     "text": [
      "[  31.29131501 -120.76159854  401.79027135  261.80243626   -6.87481128\n",
      "  -56.50501258 -194.30581743  140.52038019  337.33530672  141.88150915]\n"
     ]
    },
    {
     "name": "stderr",
     "output_type": "stream",
     "text": [
      "\n"
     ]
    }
   ],
   "source": [
    "alpha = 0.001\n",
    "n = len(y)\n",
    "m = len(diabetes_ds.feature_names)\n",
    "\n",
    "soln = np.random.randn(m)\n",
    "\n",
    "for epoch in tqdm(range(500000)):\n",
    "    h = X @ soln\n",
    "    soln += ((alpha / n) * (X.T @ (y - h)))\n",
    "\n",
    "print(soln)"
   ]
  },
  {
   "cell_type": "code",
   "execution_count": 28,
   "id": "a0614856",
   "metadata": {
    "ExecuteTime": {
     "end_time": "2023-02-04T04:49:15.658150Z",
     "start_time": "2023-02-04T04:49:15.552554Z"
    }
   },
   "outputs": [
    {
     "data": {
      "text/plain": [
       "array([ -10.01219782, -239.81908937,  519.83978679,  324.39042769,\n",
       "       -792.18416163,  476.74583782,  101.04457032,  177.06417623,\n",
       "        751.27932109,   67.62538639])"
      ]
     },
     "execution_count": 28,
     "metadata": {},
     "output_type": "execute_result"
    }
   ],
   "source": [
    "model = LinearRegression(fit_intercept = False)\n",
    "model.fit(X, y)\n",
    "model.coef_"
   ]
  },
  {
   "cell_type": "code",
   "execution_count": null,
   "id": "1f157c17",
   "metadata": {},
   "outputs": [],
   "source": []
  }
 ],
 "metadata": {
  "kernelspec": {
   "display_name": "Python 3 (ipykernel)",
   "language": "python",
   "name": "python3"
  },
  "language_info": {
   "codemirror_mode": {
    "name": "ipython",
    "version": 3
   },
   "file_extension": ".py",
   "mimetype": "text/x-python",
   "name": "python",
   "nbconvert_exporter": "python",
   "pygments_lexer": "ipython3",
   "version": "3.9.7"
  },
  "toc": {
   "base_numbering": 1,
   "nav_menu": {},
   "number_sections": true,
   "sideBar": true,
   "skip_h1_title": false,
   "title_cell": "Table of Contents",
   "title_sidebar": "Contents",
   "toc_cell": false,
   "toc_position": {},
   "toc_section_display": true,
   "toc_window_display": false
  },
  "varInspector": {
   "cols": {
    "lenName": 16,
    "lenType": 16,
    "lenVar": 40
   },
   "kernels_config": {
    "python": {
     "delete_cmd_postfix": "",
     "delete_cmd_prefix": "del ",
     "library": "var_list.py",
     "varRefreshCmd": "print(var_dic_list())"
    },
    "r": {
     "delete_cmd_postfix": ") ",
     "delete_cmd_prefix": "rm(",
     "library": "var_list.r",
     "varRefreshCmd": "cat(var_dic_list()) "
    }
   },
   "types_to_exclude": [
    "module",
    "function",
    "builtin_function_or_method",
    "instance",
    "_Feature"
   ],
   "window_display": false
  }
 },
 "nbformat": 4,
 "nbformat_minor": 5
}
