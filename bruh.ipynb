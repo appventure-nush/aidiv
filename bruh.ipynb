{
 "cells": [
  {
   "cell_type": "markdown",
   "id": "5e6e3ca6",
   "metadata": {},
   "source": [
    "# Partial Derivatices"
   ]
  },
  {
   "cell_type": "markdown",
   "id": "944ad3be",
   "metadata": {},
   "source": [
    "$f(x,y) = x + y$"
   ]
  },
  {
   "cell_type": "markdown",
   "id": "e715265e",
   "metadata": {},
   "source": [
    "$\\frac{df}{dx} = 1$"
   ]
  },
  {
   "cell_type": "markdown",
   "id": "8eb0e513",
   "metadata": {},
   "source": [
    "$f(x,y) = xy$"
   ]
  },
  {
   "cell_type": "markdown",
   "id": "8888624a",
   "metadata": {},
   "source": [
    "$\\frac{df}{dx} = y$"
   ]
  },
  {
   "cell_type": "markdown",
   "id": "42b8c2a8",
   "metadata": {},
   "source": [
    "$\\frac{df}{dy} = x$"
   ]
  },
  {
   "cell_type": "code",
   "execution_count": null,
   "id": "8088f73a",
   "metadata": {},
   "outputs": [],
   "source": []
  }
 ],
 "metadata": {
  "kernelspec": {
   "display_name": "Python 3 (ipykernel)",
   "language": "python",
   "name": "python3"
  },
  "language_info": {
   "codemirror_mode": {
    "name": "ipython",
    "version": 3
   },
   "file_extension": ".py",
   "mimetype": "text/x-python",
   "name": "python",
   "nbconvert_exporter": "python",
   "pygments_lexer": "ipython3",
   "version": "3.9.12"
  }
 },
 "nbformat": 4,
 "nbformat_minor": 5
}
